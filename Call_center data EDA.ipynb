{
 "cells": [
  {
   "cell_type": "code",
   "execution_count": 8,
   "id": "e1aa8591",
   "metadata": {},
   "outputs": [],
   "source": [
    "# Import Libraries\n",
    "\n",
    "import pandas as pd\n",
    "import numpy as np\n",
    "import seaborn as sns\n",
    "import matplotlib.pyplot as plt\n",
    "import warnings\n",
    "warnings.filterwarnings('ignore')"
   ]
  },
  {
   "cell_type": "code",
   "execution_count": 9,
   "id": "648ef83a",
   "metadata": {},
   "outputs": [],
   "source": [
    "#Import dataset\n",
    "\n",
    "df = pd.read_csv(r'C:\\Users\\Lenovo\\Downloads\\Call Center Data.csv')"
   ]
  },
  {
   "cell_type": "code",
   "execution_count": 19,
   "id": "995505f0",
   "metadata": {},
   "outputs": [
    {
     "data": {
      "text/html": [
       "<div>\n",
       "<style scoped>\n",
       "    .dataframe tbody tr th:only-of-type {\n",
       "        vertical-align: middle;\n",
       "    }\n",
       "\n",
       "    .dataframe tbody tr th {\n",
       "        vertical-align: top;\n",
       "    }\n",
       "\n",
       "    .dataframe thead th {\n",
       "        text-align: right;\n",
       "    }\n",
       "</style>\n",
       "<table border=\"1\" class=\"dataframe\">\n",
       "  <thead>\n",
       "    <tr style=\"text-align: right;\">\n",
       "      <th></th>\n",
       "      <th>Incoming Calls</th>\n",
       "      <th>Answered Calls</th>\n",
       "      <th>Answer Rate</th>\n",
       "      <th>Abandoned Calls</th>\n",
       "      <th>Answer Speed (AVG)</th>\n",
       "      <th>Talk Duration (AVG)</th>\n",
       "      <th>Waiting Time (AVG)</th>\n",
       "      <th>Service Level (20 Seconds)</th>\n",
       "    </tr>\n",
       "  </thead>\n",
       "  <tbody>\n",
       "    <tr>\n",
       "      <th>0</th>\n",
       "      <td>217</td>\n",
       "      <td>204</td>\n",
       "      <td>94.01%</td>\n",
       "      <td>13</td>\n",
       "      <td>0:00:17</td>\n",
       "      <td>0:02:14</td>\n",
       "      <td>0:02:45</td>\n",
       "      <td>76.28%</td>\n",
       "    </tr>\n",
       "    <tr>\n",
       "      <th>1</th>\n",
       "      <td>200</td>\n",
       "      <td>182</td>\n",
       "      <td>91.00%</td>\n",
       "      <td>18</td>\n",
       "      <td>0:00:20</td>\n",
       "      <td>0:02:22</td>\n",
       "      <td>0:06:55</td>\n",
       "      <td>72.73%</td>\n",
       "    </tr>\n",
       "    <tr>\n",
       "      <th>2</th>\n",
       "      <td>216</td>\n",
       "      <td>198</td>\n",
       "      <td>91.67%</td>\n",
       "      <td>18</td>\n",
       "      <td>0:00:18</td>\n",
       "      <td>0:02:38</td>\n",
       "      <td>0:03:50</td>\n",
       "      <td>74.30%</td>\n",
       "    </tr>\n",
       "    <tr>\n",
       "      <th>3</th>\n",
       "      <td>155</td>\n",
       "      <td>145</td>\n",
       "      <td>93.55%</td>\n",
       "      <td>10</td>\n",
       "      <td>0:00:15</td>\n",
       "      <td>0:02:29</td>\n",
       "      <td>0:03:12</td>\n",
       "      <td>79.61%</td>\n",
       "    </tr>\n",
       "    <tr>\n",
       "      <th>4</th>\n",
       "      <td>37</td>\n",
       "      <td>37</td>\n",
       "      <td>100.00%</td>\n",
       "      <td>0</td>\n",
       "      <td>0:00:03</td>\n",
       "      <td>0:02:06</td>\n",
       "      <td>0:00:35</td>\n",
       "      <td>97.30%</td>\n",
       "    </tr>\n",
       "  </tbody>\n",
       "</table>\n",
       "</div>"
      ],
      "text/plain": [
       "   Incoming Calls  Answered Calls Answer Rate  Abandoned Calls  \\\n",
       "0             217             204      94.01%               13   \n",
       "1             200             182      91.00%               18   \n",
       "2             216             198      91.67%               18   \n",
       "3             155             145      93.55%               10   \n",
       "4              37              37     100.00%                0   \n",
       "\n",
       "  Answer Speed (AVG) Talk Duration (AVG) Waiting Time (AVG)  \\\n",
       "0            0:00:17             0:02:14            0:02:45   \n",
       "1            0:00:20             0:02:22            0:06:55   \n",
       "2            0:00:18             0:02:38            0:03:50   \n",
       "3            0:00:15             0:02:29            0:03:12   \n",
       "4            0:00:03             0:02:06            0:00:35   \n",
       "\n",
       "  Service Level (20 Seconds)  \n",
       "0                     76.28%  \n",
       "1                     72.73%  \n",
       "2                     74.30%  \n",
       "3                     79.61%  \n",
       "4                     97.30%  "
      ]
     },
     "execution_count": 19,
     "metadata": {},
     "output_type": "execute_result"
    }
   ],
   "source": [
    "df.head()"
   ]
  },
  {
   "cell_type": "code",
   "execution_count": 91,
   "id": "67c088cd",
   "metadata": {},
   "outputs": [
    {
     "data": {
      "text/plain": [
       "Index(['Index', 'Incoming Calls', 'Answered Calls', 'Answer Rate',\n",
       "       'Abandoned Calls', 'Answer Speed (AVG)', 'Talk Duration (AVG)',\n",
       "       'Waiting Time (AVG)', 'Service Level (20 Seconds)'],\n",
       "      dtype='object')"
      ]
     },
     "execution_count": 91,
     "metadata": {},
     "output_type": "execute_result"
    }
   ],
   "source": [
    "df.columns"
   ]
  },
  {
   "cell_type": "code",
   "execution_count": 92,
   "id": "2f75c331",
   "metadata": {},
   "outputs": [
    {
     "data": {
      "text/plain": [
       "(1251, 9)"
      ]
     },
     "execution_count": 92,
     "metadata": {},
     "output_type": "execute_result"
    }
   ],
   "source": [
    "df.shape"
   ]
  },
  {
   "cell_type": "code",
   "execution_count": 93,
   "id": "c9bb5f95",
   "metadata": {},
   "outputs": [
    {
     "data": {
      "text/plain": [
       "<bound method DataFrame.info of       Index  Incoming Calls  Answered Calls Answer Rate  Abandoned Calls  \\\n",
       "0         1             217             204      94.01%               13   \n",
       "1         2             200             182      91.00%               18   \n",
       "2         3             216             198      91.67%               18   \n",
       "3         4             155             145      93.55%               10   \n",
       "4         5              37              37     100.00%                0   \n",
       "...     ...             ...             ...         ...              ...   \n",
       "1246   1247             191             184      96.34%                7   \n",
       "1247   1248             212             209      98.58%                3   \n",
       "1248   1249             210             203      96.67%                7   \n",
       "1249   1250             167             159      95.21%                8   \n",
       "1250   1251              12              11      91.67%                1   \n",
       "\n",
       "     Answer Speed (AVG) Talk Duration (AVG) Waiting Time (AVG)  \\\n",
       "0               0:00:17             0:02:14            0:02:45   \n",
       "1               0:00:20             0:02:22            0:06:55   \n",
       "2               0:00:18             0:02:38            0:03:50   \n",
       "3               0:00:15             0:02:29            0:03:12   \n",
       "4               0:00:03             0:02:06            0:00:35   \n",
       "...                 ...                 ...                ...   \n",
       "1246            0:00:07             0:02:50            0:01:56   \n",
       "1247            0:00:10             0:02:51            0:01:45   \n",
       "1248            0:00:12             0:03:22            0:03:52   \n",
       "1249            0:00:16             0:03:16            0:02:42   \n",
       "1250            0:00:03             0:02:12            0:00:58   \n",
       "\n",
       "     Service Level (20 Seconds)  \n",
       "0                        76.28%  \n",
       "1                        72.73%  \n",
       "2                        74.30%  \n",
       "3                        79.61%  \n",
       "4                        97.30%  \n",
       "...                         ...  \n",
       "1246                     92.55%  \n",
       "1247                     89.10%  \n",
       "1248                     85.24%  \n",
       "1249                     83.03%  \n",
       "1250                     91.67%  \n",
       "\n",
       "[1251 rows x 9 columns]>"
      ]
     },
     "execution_count": 93,
     "metadata": {},
     "output_type": "execute_result"
    }
   ],
   "source": [
    "df.info"
   ]
  },
  {
   "cell_type": "code",
   "execution_count": 4,
   "id": "af450f7d",
   "metadata": {},
   "outputs": [
    {
     "data": {
      "text/plain": [
       "Index                         1251\n",
       "Incoming Calls                 403\n",
       "Answered Calls                 363\n",
       "Answer Rate                    730\n",
       "Abandoned Calls                115\n",
       "Answer Speed (AVG)              93\n",
       "Talk Duration (AVG)            131\n",
       "Waiting Time (AVG)             424\n",
       "Service Level (20 Seconds)    1027\n",
       "dtype: int64"
      ]
     },
     "execution_count": 4,
     "metadata": {},
     "output_type": "execute_result"
    }
   ],
   "source": [
    "df.nunique()"
   ]
  },
  {
   "cell_type": "code",
   "execution_count": 5,
   "id": "1a7d35bc",
   "metadata": {},
   "outputs": [
    {
     "data": {
      "text/plain": [
       "Index                         0\n",
       "Incoming Calls                0\n",
       "Answered Calls                0\n",
       "Answer Rate                   0\n",
       "Abandoned Calls               0\n",
       "Answer Speed (AVG)            0\n",
       "Talk Duration (AVG)           0\n",
       "Waiting Time (AVG)            0\n",
       "Service Level (20 Seconds)    0\n",
       "dtype: int64"
      ]
     },
     "execution_count": 5,
     "metadata": {},
     "output_type": "execute_result"
    }
   ],
   "source": [
    "df.isnull().sum()"
   ]
  },
  {
   "cell_type": "code",
   "execution_count": 94,
   "id": "d446f25a",
   "metadata": {},
   "outputs": [
    {
     "data": {
      "text/html": [
       "<style type=\"text/css\">\n",
       "#T_6ebfb_row0_col0, #T_6ebfb_row0_col2, #T_6ebfb_row0_col3, #T_6ebfb_row7_col0, #T_6ebfb_row7_col1 {\n",
       "  background-color: #800026;\n",
       "  color: #f1f1f1;\n",
       "}\n",
       "#T_6ebfb_row0_col1 {\n",
       "  background-color: #d51020;\n",
       "  color: #f1f1f1;\n",
       "}\n",
       "#T_6ebfb_row1_col0, #T_6ebfb_row5_col0 {\n",
       "  background-color: #fd8c3c;\n",
       "  color: #f1f1f1;\n",
       "}\n",
       "#T_6ebfb_row1_col1 {\n",
       "  background-color: #ffeda1;\n",
       "  color: #000000;\n",
       "}\n",
       "#T_6ebfb_row1_col2 {\n",
       "  background-color: #ffeb9c;\n",
       "  color: #000000;\n",
       "}\n",
       "#T_6ebfb_row1_col3 {\n",
       "  background-color: #fffdc6;\n",
       "  color: #000000;\n",
       "}\n",
       "#T_6ebfb_row2_col0 {\n",
       "  background-color: #fece6a;\n",
       "  color: #000000;\n",
       "}\n",
       "#T_6ebfb_row2_col1 {\n",
       "  background-color: #fff1ab;\n",
       "  color: #000000;\n",
       "}\n",
       "#T_6ebfb_row2_col2, #T_6ebfb_row4_col2 {\n",
       "  background-color: #fff3ae;\n",
       "  color: #000000;\n",
       "}\n",
       "#T_6ebfb_row2_col3 {\n",
       "  background-color: #fff8bb;\n",
       "  color: #000000;\n",
       "}\n",
       "#T_6ebfb_row3_col0, #T_6ebfb_row3_col1, #T_6ebfb_row3_col2, #T_6ebfb_row3_col3, #T_6ebfb_row4_col3 {\n",
       "  background-color: #ffffcc;\n",
       "  color: #000000;\n",
       "}\n",
       "#T_6ebfb_row4_col0 {\n",
       "  background-color: #fed976;\n",
       "  color: #000000;\n",
       "}\n",
       "#T_6ebfb_row4_col1 {\n",
       "  background-color: #fff4b2;\n",
       "  color: #000000;\n",
       "}\n",
       "#T_6ebfb_row5_col1 {\n",
       "  background-color: #ffefa5;\n",
       "  color: #000000;\n",
       "}\n",
       "#T_6ebfb_row5_col2 {\n",
       "  background-color: #ffec9f;\n",
       "  color: #000000;\n",
       "}\n",
       "#T_6ebfb_row5_col3 {\n",
       "  background-color: #fffecb;\n",
       "  color: #000000;\n",
       "}\n",
       "#T_6ebfb_row6_col0 {\n",
       "  background-color: #e2191c;\n",
       "  color: #f1f1f1;\n",
       "}\n",
       "#T_6ebfb_row6_col1 {\n",
       "  background-color: #ffea99;\n",
       "  color: #000000;\n",
       "}\n",
       "#T_6ebfb_row6_col2 {\n",
       "  background-color: #ffe691;\n",
       "  color: #000000;\n",
       "}\n",
       "#T_6ebfb_row6_col3 {\n",
       "  background-color: #fffdc8;\n",
       "  color: #000000;\n",
       "}\n",
       "#T_6ebfb_row7_col2 {\n",
       "  background-color: #e8241f;\n",
       "  color: #f1f1f1;\n",
       "}\n",
       "#T_6ebfb_row7_col3 {\n",
       "  background-color: #fc6c33;\n",
       "  color: #f1f1f1;\n",
       "}\n",
       "</style>\n",
       "<table id=\"T_6ebfb\">\n",
       "  <thead>\n",
       "    <tr>\n",
       "      <th class=\"blank level0\" >&nbsp;</th>\n",
       "      <th id=\"T_6ebfb_level0_col0\" class=\"col_heading level0 col0\" >Index</th>\n",
       "      <th id=\"T_6ebfb_level0_col1\" class=\"col_heading level0 col1\" >Incoming Calls</th>\n",
       "      <th id=\"T_6ebfb_level0_col2\" class=\"col_heading level0 col2\" >Answered Calls</th>\n",
       "      <th id=\"T_6ebfb_level0_col3\" class=\"col_heading level0 col3\" >Abandoned Calls</th>\n",
       "    </tr>\n",
       "  </thead>\n",
       "  <tbody>\n",
       "    <tr>\n",
       "      <th id=\"T_6ebfb_level0_row0\" class=\"row_heading level0 row0\" >count</th>\n",
       "      <td id=\"T_6ebfb_row0_col0\" class=\"data row0 col0\" >1251.000000</td>\n",
       "      <td id=\"T_6ebfb_row0_col1\" class=\"data row0 col1\" >1251.000000</td>\n",
       "      <td id=\"T_6ebfb_row0_col2\" class=\"data row0 col2\" >1251.000000</td>\n",
       "      <td id=\"T_6ebfb_row0_col3\" class=\"data row0 col3\" >1251.000000</td>\n",
       "    </tr>\n",
       "    <tr>\n",
       "      <th id=\"T_6ebfb_level0_row1\" class=\"row_heading level0 row1\" >mean</th>\n",
       "      <td id=\"T_6ebfb_row1_col0\" class=\"data row1 col0\" >626.000000</td>\n",
       "      <td id=\"T_6ebfb_row1_col1\" class=\"data row1 col1\" >198.539568</td>\n",
       "      <td id=\"T_6ebfb_row1_col2\" class=\"data row1 col2\" >176.845723</td>\n",
       "      <td id=\"T_6ebfb_row1_col3\" class=\"data row1 col3\" >21.693845</td>\n",
       "    </tr>\n",
       "    <tr>\n",
       "      <th id=\"T_6ebfb_level0_row2\" class=\"row_heading level0 row2\" >std</th>\n",
       "      <td id=\"T_6ebfb_row2_col0\" class=\"data row2 col0\" >361.276902</td>\n",
       "      <td id=\"T_6ebfb_row2_col1\" class=\"data row2 col1\" >156.534195</td>\n",
       "      <td id=\"T_6ebfb_row2_col2\" class=\"data row2 col2\" >115.612080</td>\n",
       "      <td id=\"T_6ebfb_row2_col3\" class=\"data row2 col3\" >59.671955</td>\n",
       "    </tr>\n",
       "    <tr>\n",
       "      <th id=\"T_6ebfb_level0_row3\" class=\"row_heading level0 row3\" >min</th>\n",
       "      <td id=\"T_6ebfb_row3_col0\" class=\"data row3 col0\" >1.000000</td>\n",
       "      <td id=\"T_6ebfb_row3_col1\" class=\"data row3 col1\" >5.000000</td>\n",
       "      <td id=\"T_6ebfb_row3_col2\" class=\"data row3 col2\" >5.000000</td>\n",
       "      <td id=\"T_6ebfb_row3_col3\" class=\"data row3 col3\" >0.000000</td>\n",
       "    </tr>\n",
       "    <tr>\n",
       "      <th id=\"T_6ebfb_level0_row4\" class=\"row_heading level0 row4\" >25%</th>\n",
       "      <td id=\"T_6ebfb_row4_col0\" class=\"data row4 col0\" >313.500000</td>\n",
       "      <td id=\"T_6ebfb_row4_col1\" class=\"data row4 col1\" >123.000000</td>\n",
       "      <td id=\"T_6ebfb_row4_col2\" class=\"data row4 col2\" >114.000000</td>\n",
       "      <td id=\"T_6ebfb_row4_col3\" class=\"data row4 col3\" >3.000000</td>\n",
       "    </tr>\n",
       "    <tr>\n",
       "      <th id=\"T_6ebfb_level0_row5\" class=\"row_heading level0 row5\" >50%</th>\n",
       "      <td id=\"T_6ebfb_row5_col0\" class=\"data row5 col0\" >626.000000</td>\n",
       "      <td id=\"T_6ebfb_row5_col1\" class=\"data row5 col1\" >177.000000</td>\n",
       "      <td id=\"T_6ebfb_row5_col2\" class=\"data row5 col2\" >166.000000</td>\n",
       "      <td id=\"T_6ebfb_row5_col3\" class=\"data row5 col3\" >8.000000</td>\n",
       "    </tr>\n",
       "    <tr>\n",
       "      <th id=\"T_6ebfb_level0_row6\" class=\"row_heading level0 row6\" >75%</th>\n",
       "      <td id=\"T_6ebfb_row6_col0\" class=\"data row6 col0\" >938.500000</td>\n",
       "      <td id=\"T_6ebfb_row6_col1\" class=\"data row6 col1\" >233.000000</td>\n",
       "      <td id=\"T_6ebfb_row6_col2\" class=\"data row6 col2\" >214.500000</td>\n",
       "      <td id=\"T_6ebfb_row6_col3\" class=\"data row6 col3\" >16.000000</td>\n",
       "    </tr>\n",
       "    <tr>\n",
       "      <th id=\"T_6ebfb_level0_row7\" class=\"row_heading level0 row7\" >max</th>\n",
       "      <td id=\"T_6ebfb_row7_col0\" class=\"data row7 col0\" >1251.000000</td>\n",
       "      <td id=\"T_6ebfb_row7_col1\" class=\"data row7 col1\" >1575.000000</td>\n",
       "      <td id=\"T_6ebfb_row7_col2\" class=\"data row7 col2\" >909.000000</td>\n",
       "      <td id=\"T_6ebfb_row7_col3\" class=\"data row7 col3\" >704.000000</td>\n",
       "    </tr>\n",
       "  </tbody>\n",
       "</table>\n"
      ],
      "text/plain": [
       "<pandas.io.formats.style.Styler at 0x229b7d2b580>"
      ]
     },
     "execution_count": 94,
     "metadata": {},
     "output_type": "execute_result"
    }
   ],
   "source": [
    "# Checking the statistical information in the data\n",
    "df.describe().style.background_gradient(cmap='YlOrRd')"
   ]
  },
  {
   "cell_type": "code",
   "execution_count": 95,
   "id": "7f678b7d",
   "metadata": {},
   "outputs": [
    {
     "data": {
      "text/plain": [
       "Index                          int64\n",
       "Incoming Calls                 int64\n",
       "Answered Calls                 int64\n",
       "Answer Rate                   object\n",
       "Abandoned Calls                int64\n",
       "Answer Speed (AVG)            object\n",
       "Talk Duration (AVG)           object\n",
       "Waiting Time (AVG)            object\n",
       "Service Level (20 Seconds)    object\n",
       "dtype: object"
      ]
     },
     "execution_count": 95,
     "metadata": {},
     "output_type": "execute_result"
    }
   ],
   "source": [
    "df.dtypes"
   ]
  },
  {
   "cell_type": "code",
   "execution_count": 96,
   "id": "d1af037a",
   "metadata": {},
   "outputs": [
    {
     "data": {
      "text/plain": [
       "909"
      ]
     },
     "execution_count": 96,
     "metadata": {},
     "output_type": "execute_result"
    }
   ],
   "source": [
    "#Maximum number of answered calls\n",
    "df['Answered Calls'].max()"
   ]
  },
  {
   "cell_type": "code",
   "execution_count": 97,
   "id": "a16cd572",
   "metadata": {},
   "outputs": [
    {
     "data": {
      "text/plain": [
       "5"
      ]
     },
     "execution_count": 97,
     "metadata": {},
     "output_type": "execute_result"
    }
   ],
   "source": [
    "#Least number of answered calls\n",
    "df['Answered Calls'].min()"
   ]
  },
  {
   "cell_type": "code",
   "execution_count": 98,
   "id": "c5b65677",
   "metadata": {},
   "outputs": [
    {
     "data": {
      "text/plain": [
       "Index                         0\n",
       "Incoming Calls                0\n",
       "Answered Calls                0\n",
       "Answer Rate                   0\n",
       "Abandoned Calls               0\n",
       "Answer Speed (AVG)            0\n",
       "Talk Duration (AVG)           0\n",
       "Waiting Time (AVG)            0\n",
       "Service Level (20 Seconds)    0\n",
       "dtype: int64"
      ]
     },
     "execution_count": 98,
     "metadata": {},
     "output_type": "execute_result"
    }
   ],
   "source": [
    "# Check total number of null values\n",
    "df.isnull().sum()"
   ]
  },
  {
   "cell_type": "code",
   "execution_count": 99,
   "id": "0d7f6441",
   "metadata": {},
   "outputs": [
    {
     "data": {
      "text/html": [
       "<div>\n",
       "<style scoped>\n",
       "    .dataframe tbody tr th:only-of-type {\n",
       "        vertical-align: middle;\n",
       "    }\n",
       "\n",
       "    .dataframe tbody tr th {\n",
       "        vertical-align: top;\n",
       "    }\n",
       "\n",
       "    .dataframe thead th {\n",
       "        text-align: right;\n",
       "    }\n",
       "</style>\n",
       "<table border=\"1\" class=\"dataframe\">\n",
       "  <thead>\n",
       "    <tr style=\"text-align: right;\">\n",
       "      <th></th>\n",
       "      <th>Index</th>\n",
       "      <th>Incoming Calls</th>\n",
       "      <th>Answered Calls</th>\n",
       "      <th>Answer Rate</th>\n",
       "      <th>Abandoned Calls</th>\n",
       "      <th>Answer Speed (AVG)</th>\n",
       "      <th>Talk Duration (AVG)</th>\n",
       "      <th>Waiting Time (AVG)</th>\n",
       "      <th>Service Level (20 Seconds)</th>\n",
       "    </tr>\n",
       "  </thead>\n",
       "  <tbody>\n",
       "  </tbody>\n",
       "</table>\n",
       "</div>"
      ],
      "text/plain": [
       "Empty DataFrame\n",
       "Columns: [Index, Incoming Calls, Answered Calls, Answer Rate, Abandoned Calls, Answer Speed (AVG), Talk Duration (AVG), Waiting Time (AVG), Service Level (20 Seconds)]\n",
       "Index: []"
      ]
     },
     "execution_count": 99,
     "metadata": {},
     "output_type": "execute_result"
    }
   ],
   "source": [
    "# Examine rows with missing values in any of the columns\n",
    "\n",
    "df.loc[callcenter_data.isnull().any(axis=1)]"
   ]
  },
  {
   "cell_type": "code",
   "execution_count": 14,
   "id": "a78e72c2",
   "metadata": {},
   "outputs": [],
   "source": [
    "# Remove any rows where there are missing values\n",
    "\n",
    "df = df.dropna()"
   ]
  },
  {
   "cell_type": "code",
   "execution_count": 15,
   "id": "33a0bbb0",
   "metadata": {},
   "outputs": [
    {
     "name": "stdout",
     "output_type": "stream",
     "text": [
      "The data set contains the 0 values\n"
     ]
    }
   ],
   "source": [
    "# Checking Duplicate values\n",
    "Checking_duplicate_values=df.duplicated().sum()\n",
    "print(f'The data set contains the {Checking_duplicate_values} values')"
   ]
  },
  {
   "cell_type": "code",
   "execution_count": 16,
   "id": "1cb35c13",
   "metadata": {},
   "outputs": [
    {
     "data": {
      "text/html": [
       "<div>\n",
       "<style scoped>\n",
       "    .dataframe tbody tr th:only-of-type {\n",
       "        vertical-align: middle;\n",
       "    }\n",
       "\n",
       "    .dataframe tbody tr th {\n",
       "        vertical-align: top;\n",
       "    }\n",
       "\n",
       "    .dataframe thead th {\n",
       "        text-align: right;\n",
       "    }\n",
       "</style>\n",
       "<table border=\"1\" class=\"dataframe\">\n",
       "  <thead>\n",
       "    <tr style=\"text-align: right;\">\n",
       "      <th></th>\n",
       "      <th>Index</th>\n",
       "      <th>Incoming Calls</th>\n",
       "      <th>Answered Calls</th>\n",
       "      <th>Answer Rate</th>\n",
       "      <th>Abandoned Calls</th>\n",
       "      <th>Answer Speed (AVG)</th>\n",
       "      <th>Talk Duration (AVG)</th>\n",
       "      <th>Waiting Time (AVG)</th>\n",
       "      <th>Service Level (20 Seconds)</th>\n",
       "    </tr>\n",
       "  </thead>\n",
       "  <tbody>\n",
       "  </tbody>\n",
       "</table>\n",
       "</div>"
      ],
      "text/plain": [
       "Empty DataFrame\n",
       "Columns: [Index, Incoming Calls, Answered Calls, Answer Rate, Abandoned Calls, Answer Speed (AVG), Talk Duration (AVG), Waiting Time (AVG), Service Level (20 Seconds)]\n",
       "Index: []"
      ]
     },
     "execution_count": 16,
     "metadata": {},
     "output_type": "execute_result"
    }
   ],
   "source": [
    "# Check the duplicate rows\n",
    "\n",
    "df.loc[df.duplicated()]\n"
   ]
  },
  {
   "cell_type": "code",
   "execution_count": 17,
   "id": "e22ae27f",
   "metadata": {},
   "outputs": [
    {
     "data": {
      "text/plain": [
       "0:00:26    47\n",
       "0:00:21    47\n",
       "0:00:16    45\n",
       "0:00:17    44\n",
       "0:00:13    44\n",
       "           ..\n",
       "0:02:01     1\n",
       "0:01:38     1\n",
       "0:04:04     1\n",
       "0:05:08     1\n",
       "0:01:14     1\n",
       "Name: Answer Speed (AVG), Length: 93, dtype: int64"
      ]
     },
     "execution_count": 17,
     "metadata": {},
     "output_type": "execute_result"
    }
   ],
   "source": [
    "df['Answer Speed (AVG)'].value_counts()"
   ]
  },
  {
   "cell_type": "markdown",
   "id": "90487353",
   "metadata": {},
   "source": [
    "### Plot Answer Speed (Avg)"
   ]
  },
  {
   "cell_type": "code",
   "execution_count": 18,
   "id": "220f6761",
   "metadata": {},
   "outputs": [
    {
     "data": {
      "text/plain": [
       "<Axes: >"
      ]
     },
     "execution_count": 18,
     "metadata": {},
     "output_type": "execute_result"
    },
    {
     "data": {
      "image/png": "[encoded data removed]",
      "text/plain": [
       "<Figure size 640x480 with 1 Axes>"
      ]
     },
     "metadata": {},
     "output_type": "display_data"
    }
   ],
   "source": [
    "df['Answer Speed (AVG)'].value_counts().plot()"
   ]
  },
  {
   "cell_type": "code",
   "execution_count": 4,
   "id": "f9c8454e",
   "metadata": {},
   "outputs": [
    {
     "data": {
      "image/png": "[encoded data removed]",
      "text/plain": [
       "<Figure size 640x480 with 3 Axes>"
      ]
     },
     "metadata": {},
     "output_type": "display_data"
    }
   ],
   "source": [
    "# Select the columns to be plotted\n",
    "cols = ['Incoming Calls', 'Answered Calls', 'Abandoned Calls']\n",
    "\n",
    "# create the figure and axes\n",
    "fig, axes = plt.subplots(3, 1)\n",
    "axes = axes.ravel()  \n",
    "\n",
    "for col, ax in zip(cols, axes):\n",
    "    sns.histplot(data=df[col], kde=True, stat='density', ax=ax)\n",
    "\n",
    "fig.tight_layout()\n",
    "plt.show()"
   ]
  },
  {
   "cell_type": "markdown",
   "id": "416cbbd2",
   "metadata": {},
   "source": [
    "### Histogram Interpretation\n",
    "\n",
    " **Incoming Calls:**\n",
    "  The peak around 100-200 calls suggests that this is the most common range for incoming calls. The gradual decrease towards 1600 calls indicates fewer instances of very high call volumes.\n",
    "\n",
    " **Answered Calls:**\n",
    "  A pronounced peak in the 100-200 call range implies that most calls are answered within this volume. The tapering off at higher numbers suggests that it's less common to have a large volume of answered calls.\n",
    "\n",
    " **Abandoned Calls:**\n",
    "  The steep peak near zero shows that abandoned calls are typically few or none, with a rapid decrease in frequency as the number of abandoned calls increases.\n"
   ]
  },
  {
   "cell_type": "code",
   "execution_count": 5,
   "id": "11528988",
   "metadata": {
    "scrolled": false
   },
   "outputs": [
    {
     "data": {
      "image/png": "[encoded data removed]",
      "text/plain": [
       "<Figure size 1200x800 with 1 Axes>"
      ]
     },
     "metadata": {},
     "output_type": "display_data"
    }
   ],
   "source": [
    "# Remove the 'Index' column\n",
    "df = df.drop(columns=['Index'])\n",
    "\n",
    "# Create boxplots\n",
    "plt.figure(figsize=(12, 8))\n",
    "sns.boxplot(data=df, orient=\"v\")\n",
    "plt.title(\"Boxplot of Call Center Metrics\")\n",
    "plt.ylabel(\"Values\")\n",
    "plt.xticks(rotation=45)\n",
    "plt.tight_layout()\n",
    "plt.show()"
   ]
  },
  {
   "cell_type": "markdown",
   "id": "0cb0d7a0",
   "metadata": {},
   "source": [
    "### Boxplot Interpretation\n",
    "\n",
    " **Incoming Calls & Answered Calls:**\n",
    "  - These metrics have a higher median and a wider interquartile range (IQR), indicating a larger spread and higher variability in the data. The presence of outliers suggests there are instances with unusually high or low call volumes.\n",
    "\n",
    " **Abandoned Calls:**\n",
    "  - This metric shows a moderate range within its IQR and fewer outliers, which could mean that the number of abandoned calls is relatively stable with some exceptions.\n",
    "\n",
    " **Average Speed of Answer:**\n",
    "  - The low median and IQR suggest that calls are typically answered quickly, but the presence of extreme outliers indicates that there can be significant delays in some cases.\n",
    "\n",
    " **Average Handle Time:**\n",
    "  - Similar to the Average Speed of Answer, this metric has a low median and IQR, implying efficient handling of calls. However, the extreme outliers suggest that some calls take much longer to handle."
   ]
  },
  {
   "cell_type": "code",
   "execution_count": 6,
   "id": "f3a47c5e",
   "metadata": {
    "scrolled": true
   },
   "outputs": [],
   "source": [
    "sns.set_style('darkgrid')"
   ]
  },
  {
   "cell_type": "code",
   "execution_count": 8,
   "id": "24950efc",
   "metadata": {},
   "outputs": [
    {
     "data": {
      "image/png": "[encoded data removed]",
      "text/plain": [
       "<Figure size 750x750 with 12 Axes>"
      ]
     },
     "metadata": {},
     "output_type": "display_data"
    }
   ],
   "source": [
    "# Load the dataset\n",
    "df = pd.read_csv(\"Call Center Data.csv\")\n",
    "\n",
    "# Remove the 'Index' column\n",
    "df = df.drop(columns=['Index'])\n",
    "\n",
    "# Create pairplot\n",
    "sns.pairplot(df)\n",
    "plt.suptitle(\"Pairplot of Call Center Metrics\", y=1.02)\n",
    "plt.show()\n"
   ]
  },
  {
   "cell_type": "markdown",
   "id": "2644550e",
   "metadata": {},
   "source": [
    "### Insights\n",
    "\n",
    "- **Positive Correlation**: There's a positive correlation between 'Incoming Calls' and 'Answered Calls', indicating that as the number of incoming calls increases, the number of answered calls also tends to increase.\n",
    "- **Call Distribution**: The histograms show most call counts are clustered towards the lower end, suggesting that higher call volumes are less frequent.\n",
    "- **Abandoned Calls**: There is also a positive correlation between 'Incoming Calls' and 'Abandoned Calls,' as well as between 'Answered Calls' and 'Abandoned Calls', which could indicate that higher volumes of incoming calls may lead to more abandoned calls if not managed efficiently.\n",
    "- **Performance Improvement**: These correlations can help in analyzing call center performance and identifying areas for improvement, such as optimizing call handling capacity to reduce abandoned calls. \n",
    "\n",
    "These insights can guide strategies to enhance customer service and operational efficiency."
   ]
  },
  {
   "cell_type": "markdown",
   "id": "be18e749",
   "metadata": {},
   "source": [
    "## Z-score method"
   ]
  },
  {
   "cell_type": "code",
   "execution_count": 10,
   "id": "49ed1dac",
   "metadata": {},
   "outputs": [],
   "source": [
    "from scipy import stats\n",
    "\n",
    "# Calculate Z-scores for 'Answered Calls'\n",
    "z_scores = stats.zscore(df['Answered Calls'])\n",
    "\n",
    "# Filter out outliers with a Z-score greater than 3 or less than -3\n",
    "df_cleaned = df[(z_scores < 3) & (z_scores > -3)]\n"
   ]
  },
  {
   "cell_type": "code",
   "execution_count": 11,
   "id": "2e84e3cd",
   "metadata": {},
   "outputs": [
    {
     "data": {
      "text/html": [
       "<div>\n",
       "<style scoped>\n",
       "    .dataframe tbody tr th:only-of-type {\n",
       "        vertical-align: middle;\n",
       "    }\n",
       "\n",
       "    .dataframe tbody tr th {\n",
       "        vertical-align: top;\n",
       "    }\n",
       "\n",
       "    .dataframe thead th {\n",
       "        text-align: right;\n",
       "    }\n",
       "</style>\n",
       "<table border=\"1\" class=\"dataframe\">\n",
       "  <thead>\n",
       "    <tr style=\"text-align: right;\">\n",
       "      <th></th>\n",
       "      <th>Index</th>\n",
       "      <th>Incoming Calls</th>\n",
       "      <th>Answered Calls</th>\n",
       "      <th>Answer Rate</th>\n",
       "      <th>Abandoned Calls</th>\n",
       "      <th>Answer Speed (AVG)</th>\n",
       "      <th>Talk Duration (AVG)</th>\n",
       "      <th>Waiting Time (AVG)</th>\n",
       "      <th>Service Level (20 Seconds)</th>\n",
       "    </tr>\n",
       "  </thead>\n",
       "  <tbody>\n",
       "    <tr>\n",
       "      <th>185</th>\n",
       "      <td>186</td>\n",
       "      <td>547</td>\n",
       "      <td>526</td>\n",
       "      <td>96.16%</td>\n",
       "      <td>21</td>\n",
       "      <td>0:00:19</td>\n",
       "      <td>0:01:21</td>\n",
       "      <td>0:03:54</td>\n",
       "      <td>81.58%</td>\n",
       "    </tr>\n",
       "    <tr>\n",
       "      <th>240</th>\n",
       "      <td>241</td>\n",
       "      <td>822</td>\n",
       "      <td>767</td>\n",
       "      <td>93.31%</td>\n",
       "      <td>55</td>\n",
       "      <td>0:00:24</td>\n",
       "      <td>0:01:25</td>\n",
       "      <td>0:04:35</td>\n",
       "      <td>64.40%</td>\n",
       "    </tr>\n",
       "    <tr>\n",
       "      <th>351</th>\n",
       "      <td>352</td>\n",
       "      <td>721</td>\n",
       "      <td>616</td>\n",
       "      <td>85.44%</td>\n",
       "      <td>105</td>\n",
       "      <td>0:00:57</td>\n",
       "      <td>0:01:55</td>\n",
       "      <td>0:05:48</td>\n",
       "      <td>28.31%</td>\n",
       "    </tr>\n",
       "    <tr>\n",
       "      <th>836</th>\n",
       "      <td>837</td>\n",
       "      <td>1057</td>\n",
       "      <td>602</td>\n",
       "      <td>56.95%</td>\n",
       "      <td>455</td>\n",
       "      <td>0:01:44</td>\n",
       "      <td>0:02:33</td>\n",
       "      <td>0:12:24</td>\n",
       "      <td>11.49%</td>\n",
       "    </tr>\n",
       "    <tr>\n",
       "      <th>838</th>\n",
       "      <td>839</td>\n",
       "      <td>1575</td>\n",
       "      <td>871</td>\n",
       "      <td>55.30%</td>\n",
       "      <td>704</td>\n",
       "      <td>0:01:32</td>\n",
       "      <td>0:02:33</td>\n",
       "      <td>0:22:45</td>\n",
       "      <td>13.93%</td>\n",
       "    </tr>\n",
       "    <tr>\n",
       "      <th>839</th>\n",
       "      <td>840</td>\n",
       "      <td>1349</td>\n",
       "      <td>775</td>\n",
       "      <td>57.45%</td>\n",
       "      <td>574</td>\n",
       "      <td>0:01:46</td>\n",
       "      <td>0:03:10</td>\n",
       "      <td>0:15:53</td>\n",
       "      <td>12.16%</td>\n",
       "    </tr>\n",
       "    <tr>\n",
       "      <th>841</th>\n",
       "      <td>842</td>\n",
       "      <td>968</td>\n",
       "      <td>547</td>\n",
       "      <td>56.51%</td>\n",
       "      <td>421</td>\n",
       "      <td>0:02:26</td>\n",
       "      <td>0:03:18</td>\n",
       "      <td>0:14:13</td>\n",
       "      <td>11.71%</td>\n",
       "    </tr>\n",
       "    <tr>\n",
       "      <th>843</th>\n",
       "      <td>844</td>\n",
       "      <td>788</td>\n",
       "      <td>633</td>\n",
       "      <td>80.33%</td>\n",
       "      <td>155</td>\n",
       "      <td>0:01:13</td>\n",
       "      <td>0:03:23</td>\n",
       "      <td>0:12:26</td>\n",
       "      <td>20.88%</td>\n",
       "    </tr>\n",
       "    <tr>\n",
       "      <th>845</th>\n",
       "      <td>846</td>\n",
       "      <td>842</td>\n",
       "      <td>625</td>\n",
       "      <td>74.23%</td>\n",
       "      <td>217</td>\n",
       "      <td>0:01:11</td>\n",
       "      <td>0:03:10</td>\n",
       "      <td>0:14:28</td>\n",
       "      <td>26.93%</td>\n",
       "    </tr>\n",
       "    <tr>\n",
       "      <th>846</th>\n",
       "      <td>847</td>\n",
       "      <td>847</td>\n",
       "      <td>722</td>\n",
       "      <td>85.24%</td>\n",
       "      <td>125</td>\n",
       "      <td>0:00:54</td>\n",
       "      <td>0:03:04</td>\n",
       "      <td>0:08:05</td>\n",
       "      <td>33.49%</td>\n",
       "    </tr>\n",
       "    <tr>\n",
       "      <th>847</th>\n",
       "      <td>848</td>\n",
       "      <td>800</td>\n",
       "      <td>615</td>\n",
       "      <td>76.88%</td>\n",
       "      <td>185</td>\n",
       "      <td>0:01:07</td>\n",
       "      <td>0:03:25</td>\n",
       "      <td>0:07:24</td>\n",
       "      <td>23.98%</td>\n",
       "    </tr>\n",
       "    <tr>\n",
       "      <th>848</th>\n",
       "      <td>849</td>\n",
       "      <td>1100</td>\n",
       "      <td>823</td>\n",
       "      <td>74.82%</td>\n",
       "      <td>277</td>\n",
       "      <td>0:01:08</td>\n",
       "      <td>0:03:18</td>\n",
       "      <td>0:15:31</td>\n",
       "      <td>29.65%</td>\n",
       "    </tr>\n",
       "    <tr>\n",
       "      <th>849</th>\n",
       "      <td>850</td>\n",
       "      <td>1242</td>\n",
       "      <td>909</td>\n",
       "      <td>73.19%</td>\n",
       "      <td>333</td>\n",
       "      <td>0:01:23</td>\n",
       "      <td>0:03:04</td>\n",
       "      <td>0:11:11</td>\n",
       "      <td>19.00%</td>\n",
       "    </tr>\n",
       "    <tr>\n",
       "      <th>881</th>\n",
       "      <td>882</td>\n",
       "      <td>648</td>\n",
       "      <td>564</td>\n",
       "      <td>87.04%</td>\n",
       "      <td>84</td>\n",
       "      <td>0:00:27</td>\n",
       "      <td>0:02:46</td>\n",
       "      <td>0:05:25</td>\n",
       "      <td>61.36%</td>\n",
       "    </tr>\n",
       "    <tr>\n",
       "      <th>882</th>\n",
       "      <td>883</td>\n",
       "      <td>729</td>\n",
       "      <td>592</td>\n",
       "      <td>81.21%</td>\n",
       "      <td>137</td>\n",
       "      <td>0:00:55</td>\n",
       "      <td>0:02:53</td>\n",
       "      <td>0:07:29</td>\n",
       "      <td>35.83%</td>\n",
       "    </tr>\n",
       "    <tr>\n",
       "      <th>883</th>\n",
       "      <td>884</td>\n",
       "      <td>1196</td>\n",
       "      <td>718</td>\n",
       "      <td>60.03%</td>\n",
       "      <td>478</td>\n",
       "      <td>0:01:52</td>\n",
       "      <td>0:03:09</td>\n",
       "      <td>0:11:06</td>\n",
       "      <td>14.62%</td>\n",
       "    </tr>\n",
       "    <tr>\n",
       "      <th>911</th>\n",
       "      <td>912</td>\n",
       "      <td>905</td>\n",
       "      <td>631</td>\n",
       "      <td>69.72%</td>\n",
       "      <td>274</td>\n",
       "      <td>0:01:23</td>\n",
       "      <td>0:03:42</td>\n",
       "      <td>0:12:04</td>\n",
       "      <td>25.68%</td>\n",
       "    </tr>\n",
       "    <tr>\n",
       "      <th>912</th>\n",
       "      <td>913</td>\n",
       "      <td>1141</td>\n",
       "      <td>610</td>\n",
       "      <td>53.46%</td>\n",
       "      <td>531</td>\n",
       "      <td>0:01:46</td>\n",
       "      <td>0:03:12</td>\n",
       "      <td>0:25:51</td>\n",
       "      <td>14.55%</td>\n",
       "    </tr>\n",
       "    <tr>\n",
       "      <th>951</th>\n",
       "      <td>952</td>\n",
       "      <td>954</td>\n",
       "      <td>644</td>\n",
       "      <td>67.51%</td>\n",
       "      <td>310</td>\n",
       "      <td>0:01:14</td>\n",
       "      <td>0:02:05</td>\n",
       "      <td>0:11:12</td>\n",
       "      <td>26.33%</td>\n",
       "    </tr>\n",
       "    <tr>\n",
       "      <th>1074</th>\n",
       "      <td>1075</td>\n",
       "      <td>564</td>\n",
       "      <td>551</td>\n",
       "      <td>97.70%</td>\n",
       "      <td>13</td>\n",
       "      <td>0:00:12</td>\n",
       "      <td>0:01:40</td>\n",
       "      <td>0:01:46</td>\n",
       "      <td>83.96%</td>\n",
       "    </tr>\n",
       "    <tr>\n",
       "      <th>1119</th>\n",
       "      <td>1120</td>\n",
       "      <td>587</td>\n",
       "      <td>577</td>\n",
       "      <td>98.30%</td>\n",
       "      <td>10</td>\n",
       "      <td>0:00:10</td>\n",
       "      <td>0:02:08</td>\n",
       "      <td>0:01:56</td>\n",
       "      <td>91.94%</td>\n",
       "    </tr>\n",
       "    <tr>\n",
       "      <th>1193</th>\n",
       "      <td>1194</td>\n",
       "      <td>627</td>\n",
       "      <td>577</td>\n",
       "      <td>92.03%</td>\n",
       "      <td>50</td>\n",
       "      <td>0:00:41</td>\n",
       "      <td>0:02:39</td>\n",
       "      <td>0:05:20</td>\n",
       "      <td>47.81%</td>\n",
       "    </tr>\n",
       "    <tr>\n",
       "      <th>1195</th>\n",
       "      <td>1196</td>\n",
       "      <td>599</td>\n",
       "      <td>554</td>\n",
       "      <td>92.49%</td>\n",
       "      <td>45</td>\n",
       "      <td>0:00:25</td>\n",
       "      <td>0:02:35</td>\n",
       "      <td>0:04:50</td>\n",
       "      <td>63.56%</td>\n",
       "    </tr>\n",
       "  </tbody>\n",
       "</table>\n",
       "</div>"
      ],
      "text/plain": [
       "      Index  Incoming Calls  Answered Calls Answer Rate  Abandoned Calls  \\\n",
       "185     186             547             526      96.16%               21   \n",
       "240     241             822             767      93.31%               55   \n",
       "351     352             721             616      85.44%              105   \n",
       "836     837            1057             602      56.95%              455   \n",
       "838     839            1575             871      55.30%              704   \n",
       "839     840            1349             775      57.45%              574   \n",
       "841     842             968             547      56.51%              421   \n",
       "843     844             788             633      80.33%              155   \n",
       "845     846             842             625      74.23%              217   \n",
       "846     847             847             722      85.24%              125   \n",
       "847     848             800             615      76.88%              185   \n",
       "848     849            1100             823      74.82%              277   \n",
       "849     850            1242             909      73.19%              333   \n",
       "881     882             648             564      87.04%               84   \n",
       "882     883             729             592      81.21%              137   \n",
       "883     884            1196             718      60.03%              478   \n",
       "911     912             905             631      69.72%              274   \n",
       "912     913            1141             610      53.46%              531   \n",
       "951     952             954             644      67.51%              310   \n",
       "1074   1075             564             551      97.70%               13   \n",
       "1119   1120             587             577      98.30%               10   \n",
       "1193   1194             627             577      92.03%               50   \n",
       "1195   1196             599             554      92.49%               45   \n",
       "\n",
       "     Answer Speed (AVG) Talk Duration (AVG) Waiting Time (AVG)  \\\n",
       "185             0:00:19             0:01:21            0:03:54   \n",
       "240             0:00:24             0:01:25            0:04:35   \n",
       "351             0:00:57             0:01:55            0:05:48   \n",
       "836             0:01:44             0:02:33            0:12:24   \n",
       "838             0:01:32             0:02:33            0:22:45   \n",
       "839             0:01:46             0:03:10            0:15:53   \n",
       "841             0:02:26             0:03:18            0:14:13   \n",
       "843             0:01:13             0:03:23            0:12:26   \n",
       "845             0:01:11             0:03:10            0:14:28   \n",
       "846             0:00:54             0:03:04            0:08:05   \n",
       "847             0:01:07             0:03:25            0:07:24   \n",
       "848             0:01:08             0:03:18            0:15:31   \n",
       "849             0:01:23             0:03:04            0:11:11   \n",
       "881             0:00:27             0:02:46            0:05:25   \n",
       "882             0:00:55             0:02:53            0:07:29   \n",
       "883             0:01:52             0:03:09            0:11:06   \n",
       "911             0:01:23             0:03:42            0:12:04   \n",
       "912             0:01:46             0:03:12            0:25:51   \n",
       "951             0:01:14             0:02:05            0:11:12   \n",
       "1074            0:00:12             0:01:40            0:01:46   \n",
       "1119            0:00:10             0:02:08            0:01:56   \n",
       "1193            0:00:41             0:02:39            0:05:20   \n",
       "1195            0:00:25             0:02:35            0:04:50   \n",
       "\n",
       "     Service Level (20 Seconds)  \n",
       "185                      81.58%  \n",
       "240                      64.40%  \n",
       "351                      28.31%  \n",
       "836                      11.49%  \n",
       "838                      13.93%  \n",
       "839                      12.16%  \n",
       "841                      11.71%  \n",
       "843                      20.88%  \n",
       "845                      26.93%  \n",
       "846                      33.49%  \n",
       "847                      23.98%  \n",
       "848                      29.65%  \n",
       "849                      19.00%  \n",
       "881                      61.36%  \n",
       "882                      35.83%  \n",
       "883                      14.62%  \n",
       "911                      25.68%  \n",
       "912                      14.55%  \n",
       "951                      26.33%  \n",
       "1074                     83.96%  \n",
       "1119                     91.94%  \n",
       "1193                     47.81%  \n",
       "1195                     63.56%  "
      ]
     },
     "execution_count": 11,
     "metadata": {},
     "output_type": "execute_result"
    }
   ],
   "source": [
    "# Check rows with a z-score over 3\n",
    "\n",
    "df[(z_scores > 3)]"
   ]
  },
  {
   "cell_type": "code",
   "execution_count": 12,
   "id": "d148db2c",
   "metadata": {},
   "outputs": [
    {
     "data": {
      "text/html": [
       "<div>\n",
       "<style scoped>\n",
       "    .dataframe tbody tr th:only-of-type {\n",
       "        vertical-align: middle;\n",
       "    }\n",
       "\n",
       "    .dataframe tbody tr th {\n",
       "        vertical-align: top;\n",
       "    }\n",
       "\n",
       "    .dataframe thead th {\n",
       "        text-align: right;\n",
       "    }\n",
       "</style>\n",
       "<table border=\"1\" class=\"dataframe\">\n",
       "  <thead>\n",
       "    <tr style=\"text-align: right;\">\n",
       "      <th></th>\n",
       "      <th>Incoming Calls</th>\n",
       "      <th>Answered Calls</th>\n",
       "      <th>Abandoned Calls</th>\n",
       "      <th>Answer Speed (AVG)</th>\n",
       "      <th>Talk Duration (AVG)</th>\n",
       "      <th>Waiting Time (AVG)</th>\n",
       "    </tr>\n",
       "  </thead>\n",
       "  <tbody>\n",
       "    <tr>\n",
       "      <th>0</th>\n",
       "      <td>217</td>\n",
       "      <td>204</td>\n",
       "      <td>13</td>\n",
       "      <td>0:00:17</td>\n",
       "      <td>0:02:14</td>\n",
       "      <td>0:02:45</td>\n",
       "    </tr>\n",
       "    <tr>\n",
       "      <th>1</th>\n",
       "      <td>200</td>\n",
       "      <td>182</td>\n",
       "      <td>18</td>\n",
       "      <td>0:00:20</td>\n",
       "      <td>0:02:22</td>\n",
       "      <td>0:06:55</td>\n",
       "    </tr>\n",
       "    <tr>\n",
       "      <th>2</th>\n",
       "      <td>216</td>\n",
       "      <td>198</td>\n",
       "      <td>18</td>\n",
       "      <td>0:00:18</td>\n",
       "      <td>0:02:38</td>\n",
       "      <td>0:03:50</td>\n",
       "    </tr>\n",
       "    <tr>\n",
       "      <th>3</th>\n",
       "      <td>155</td>\n",
       "      <td>145</td>\n",
       "      <td>10</td>\n",
       "      <td>0:00:15</td>\n",
       "      <td>0:02:29</td>\n",
       "      <td>0:03:12</td>\n",
       "    </tr>\n",
       "    <tr>\n",
       "      <th>4</th>\n",
       "      <td>37</td>\n",
       "      <td>37</td>\n",
       "      <td>0</td>\n",
       "      <td>0:00:03</td>\n",
       "      <td>0:02:06</td>\n",
       "      <td>0:00:35</td>\n",
       "    </tr>\n",
       "  </tbody>\n",
       "</table>\n",
       "</div>"
      ],
      "text/plain": [
       "   Incoming Calls  Answered Calls  Abandoned Calls Answer Speed (AVG)  \\\n",
       "0             217             204               13            0:00:17   \n",
       "1             200             182               18            0:00:20   \n",
       "2             216             198               18            0:00:18   \n",
       "3             155             145               10            0:00:15   \n",
       "4              37              37                0            0:00:03   \n",
       "\n",
       "  Talk Duration (AVG) Waiting Time (AVG)  \n",
       "0             0:02:14            0:02:45  \n",
       "1             0:02:22            0:06:55  \n",
       "2             0:02:38            0:03:50  \n",
       "3             0:02:29            0:03:12  \n",
       "4             0:02:06            0:00:35  "
      ]
     },
     "execution_count": 12,
     "metadata": {},
     "output_type": "execute_result"
    }
   ],
   "source": [
    "df = df[['Incoming Calls', 'Answered Calls', 'Abandoned Calls', 'Answer Speed (AVG)', 'Talk Duration (AVG)', 'Waiting Time (AVG)']]\n",
    "df.head()"
   ]
  },
  {
   "cell_type": "code",
   "execution_count": 41,
   "id": "c3f8bd8f",
   "metadata": {},
   "outputs": [
    {
     "data": {
      "text/html": [
       "<div>\n",
       "<style scoped>\n",
       "    .dataframe tbody tr th:only-of-type {\n",
       "        vertical-align: middle;\n",
       "    }\n",
       "\n",
       "    .dataframe tbody tr th {\n",
       "        vertical-align: top;\n",
       "    }\n",
       "\n",
       "    .dataframe thead th {\n",
       "        text-align: right;\n",
       "    }\n",
       "</style>\n",
       "<table border=\"1\" class=\"dataframe\">\n",
       "  <thead>\n",
       "    <tr style=\"text-align: right;\">\n",
       "      <th></th>\n",
       "      <th>Incoming Calls</th>\n",
       "      <th>Answered Calls</th>\n",
       "      <th>Abandoned Calls</th>\n",
       "    </tr>\n",
       "  </thead>\n",
       "  <tbody>\n",
       "    <tr>\n",
       "      <th>Incoming Calls</th>\n",
       "      <td>1.000000</td>\n",
       "      <td>0.940017</td>\n",
       "      <td>0.681865</td>\n",
       "    </tr>\n",
       "    <tr>\n",
       "      <th>Answered Calls</th>\n",
       "      <td>0.940017</td>\n",
       "      <td>1.000000</td>\n",
       "      <td>0.391436</td>\n",
       "    </tr>\n",
       "    <tr>\n",
       "      <th>Abandoned Calls</th>\n",
       "      <td>0.681865</td>\n",
       "      <td>0.391436</td>\n",
       "      <td>1.000000</td>\n",
       "    </tr>\n",
       "  </tbody>\n",
       "</table>\n",
       "</div>"
      ],
      "text/plain": [
       "                 Incoming Calls  Answered Calls  Abandoned Calls\n",
       "Incoming Calls         1.000000        0.940017         0.681865\n",
       "Answered Calls         0.940017        1.000000         0.391436\n",
       "Abandoned Calls        0.681865        0.391436         1.000000"
      ]
     },
     "execution_count": 41,
     "metadata": {},
     "output_type": "execute_result"
    }
   ],
   "source": [
    "corr = df.corr()\n",
    "corr"
   ]
  },
  {
   "cell_type": "code",
   "execution_count": 66,
   "id": "c47d96eb",
   "metadata": {},
   "outputs": [
    {
     "data": {
      "text/plain": [
       "<Axes: >"
      ]
     },
     "execution_count": 66,
     "metadata": {},
     "output_type": "execute_result"
    },
    {
     "data": {
      "image/png": "[encoded data removed]",
      "text/plain": [
       "<Figure size 1000x500 with 2 Axes>"
      ]
     },
     "metadata": {},
     "output_type": "display_data"
    }
   ],
   "source": [
    "plt.figure(figsize=(10, 5))\n",
    "sns.heatmap(data = corr, annot=True, cmap=\"Spectral\", center=0)"
   ]
  },
  {
   "cell_type": "markdown",
   "id": "2a324256",
   "metadata": {},
   "source": [
    "### Heatmap Interpretation\n",
    "\n",
    "**Incoming Calls vs. Answered Calls:**\n",
    "- The correlation between these two categories is likely to be strong, as more incoming calls would generally lead to more answered calls, assuming the call center has the capacity to handle them.\n",
    "\n",
    "**Incoming Calls vs. Abandoned Calls:**\n",
    "- This correlation demonstrate a moderate to strong correlation here. A high volume of incoming calls could lead to more abandoned calls if callers are waiting too long or if the call center is overwhelmed.\n",
    "\n",
    "**Answered Calls vs. Abandoned Calls:**\n",
    "- This correlation demonstrate negative correlation; as the number of answered calls increases, the number of abandoned calls might decrease, indicating good call center efficiency.\n"
   ]
  },
  {
   "cell_type": "markdown",
   "id": "7badf1e0",
   "metadata": {},
   "source": [
    " Recommendations:\n",
    "\n",
    "- **Optimize Staffing**: Adjust staffing levels to match the peak times for **Incoming Calls** and **Answered Calls** to minimize **Abandoned Calls**.\n",
    "- **Improve Response Time**: Aim to reduce the **Answer Speed (AVG)**, particularly during high traffic periods, to enhance customer satisfaction.\n",
    "- **Enhance Service Level**: Focus on maintaining a high **Service Level (20 Seconds)** by ensuring calls are answered promptly.\n",
    "- **Data-Driven Decisions**: Utilize the correlation insights from the heatmap to make informed decisions on managing call volumes and improving service efficiency.\n",
    "\n",
    "  Implementing these recommendations could lead to better resource allocation, improved customer experience, and more efficient call center operations."
   ]
  },
  {
   "cell_type": "code",
   "execution_count": null,
   "id": "b18a9797",
   "metadata": {},
   "outputs": [],
   "source": []
  },
  {
   "cell_type": "code",
   "execution_count": null,
   "id": "bd7f4be3",
   "metadata": {},
   "outputs": [],
   "source": []
  },
  {
   "cell_type": "code",
   "execution_count": null,
   "id": "d9ac71a2",
   "metadata": {},
   "outputs": [],
   "source": []
  },
  {
   "cell_type": "code",
   "execution_count": null,
   "id": "05328a51",
   "metadata": {},
   "outputs": [],
   "source": []
  },
  {
   "cell_type": "code",
   "execution_count": null,
   "id": "f270e84a",
   "metadata": {},
   "outputs": [],
   "source": []
  },
  {
   "cell_type": "code",
   "execution_count": null,
   "id": "1f81f537",
   "metadata": {},
   "outputs": [],
   "source": []
  },
  {
   "cell_type": "code",
   "execution_count": null,
   "id": "44df027d",
   "metadata": {},
   "outputs": [],
   "source": []
  },
  {
   "cell_type": "code",
   "execution_count": null,
   "id": "07754f6d",
   "metadata": {},
   "outputs": [],
   "source": []
  },
  {
   "cell_type": "code",
   "execution_count": null,
   "id": "bb3183e9",
   "metadata": {},
   "outputs": [],
   "source": []
  },
  {
   "cell_type": "code",
   "execution_count": null,
   "id": "eee6281e",
   "metadata": {},
   "outputs": [],
   "source": []
  },
  {
   "cell_type": "code",
   "execution_count": null,
   "id": "c52073bf",
   "metadata": {},
   "outputs": [],
   "source": []
  },
  {
   "cell_type": "code",
   "execution_count": null,
   "id": "bf4e1949",
   "metadata": {},
   "outputs": [],
   "source": []
  },
  {
   "cell_type": "code",
   "execution_count": null,
   "id": "90995ee6",
   "metadata": {},
   "outputs": [],
   "source": []
  },
  {
   "cell_type": "code",
   "execution_count": null,
   "id": "d16511b5",
   "metadata": {},
   "outputs": [],
   "source": []
  },
  {
   "cell_type": "code",
   "execution_count": null,
   "id": "061ca40c",
   "metadata": {},
   "outputs": [],
   "source": []
  },
  {
   "cell_type": "code",
   "execution_count": null,
   "id": "43730139",
   "metadata": {},
   "outputs": [],
   "source": []
  },
  {
   "cell_type": "code",
   "execution_count": null,
   "id": "2e42b87e",
   "metadata": {},
   "outputs": [],
   "source": []
  },
  {
   "cell_type": "code",
   "execution_count": null,
   "id": "6d59a8e1",
   "metadata": {},
   "outputs": [],
   "source": []
  },
  {
   "cell_type": "code",
   "execution_count": null,
   "id": "249f453a",
   "metadata": {},
   "outputs": [],
   "source": []
  },
  {
   "cell_type": "code",
   "execution_count": null,
   "id": "726db4e5",
   "metadata": {},
   "outputs": [],
   "source": []
  },
  {
   "cell_type": "code",
   "execution_count": null,
   "id": "f729bdf2",
   "metadata": {},
   "outputs": [],
   "source": []
  },
  {
   "cell_type": "code",
   "execution_count": null,
   "id": "de1d7096",
   "metadata": {},
   "outputs": [],
   "source": []
  },
  {
   "cell_type": "code",
   "execution_count": null,
   "id": "87ba05fc",
   "metadata": {},
   "outputs": [],
   "source": []
  },
  {
   "cell_type": "code",
   "execution_count": null,
   "id": "482e8377",
   "metadata": {},
   "outputs": [],
   "source": []
  }
 ],
 "metadata": {
  "kernelspec": {
   "display_name": "Python 3 (ipykernel)",
   "language": "python",
   "name": "python3"
  },
  "language_info": {
   "codemirror_mode": {
    "name": "ipython",
    "version": 3
   },
   "file_extension": ".py",
   "mimetype": "text/x-python",
   "name": "python",
   "nbconvert_exporter": "python",
   "pygments_lexer": "ipython3",
   "version": "3.10.9"
  }
 },
 "nbformat": 4,
 "nbformat_minor": 5
}
